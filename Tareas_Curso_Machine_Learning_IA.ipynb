{
  "nbformat": 4,
  "nbformat_minor": 0,
  "metadata": {
    "colab": {
      "name": "Tarea #1 Curso Machine Learning IA.ipynb",
      "provenance": [],
      "collapsed_sections": [],
      "include_colab_link": true
    },
    "kernelspec": {
      "name": "python3",
      "display_name": "Python 3"
    },
    "language_info": {
      "name": "python"
    }
  },
  "cells": [
    {
      "cell_type": "markdown",
      "metadata": {
        "id": "view-in-github",
        "colab_type": "text"
      },
      "source": [
        "<a href=\"https://colab.research.google.com/github/crissins/crissins/blob/main/Tareas_Curso_Machine_Learning_IA.ipynb\" target=\"_parent\"><img src=\"https://colab.research.google.com/assets/colab-badge.svg\" alt=\"Open In Colab\"/></a>"
      ]
    },
    {
      "cell_type": "markdown",
      "metadata": {
        "id": "5OJ0gTG95DeD"
      },
      "source": [
        "1. Fracciones."
      ]
    },
    {
      "cell_type": "code",
      "metadata": {
        "colab": {
          "base_uri": "https://localhost:8080/"
        },
        "id": "SvhDRUFhXnqa",
        "outputId": "7b5326f9-55c8-4511-b88a-8a0a74430ffb"
      },
      "source": [
        "#Este programa convierte un numero a fracciones \n",
        "from fractions import Fraction #Importa modulo Fractions\n",
        "\n",
        "a = Fraction(input(\"Introduce un numero flotante para convertirlo a fraccion \")) # Convierte numero a fraccion\n",
        "print(\"El numero convertido a fraccion es\" ,a)\n",
        "print(\"Su numerador es\" ,a.numerator) # .numerator nos muestra el numerador\n",
        "print(\"Su denominador es\" ,a.denominator) # .denominator nos muestra el denominador\n"
      ],
      "execution_count": null,
      "outputs": [
        {
          "output_type": "stream",
          "name": "stdout",
          "text": [
            "Introduce un numero flotante para convertirlo a fraccion 10.5\n",
            "El numero convertido a fraccion es 21/2\n",
            "Su numerador es 21\n",
            "Su denominador es 2\n"
          ]
        }
      ]
    },
    {
      "cell_type": "markdown",
      "metadata": {
        "id": "p5jibbbI5GG2"
      },
      "source": [
        "2. Imprimir número mayor. "
      ]
    },
    {
      "cell_type": "code",
      "metadata": {
        "colab": {
          "base_uri": "https://localhost:8080/"
        },
        "id": "CV2BRnYFSt0F",
        "outputId": "aaaf7be0-dba9-42f3-dad9-3a84cdb4c88c"
      },
      "source": [
        "#Este programa checa cual de los tres numeros es el mayor.\n",
        "a = float(input(\"Introduce un numero \"))\n",
        "b = float(input(\"Introduce otro numero \"))\n",
        "c = float(input(\"Introduce un numero mas y veamos cual es el mas grande los tres \"))\n",
        "\n",
        "if (a >= b) and (a >= c): # Si a es mayor que b Y si a es mayor que C. \n",
        "   num_mayor = a # El numero mayor sera a.\n",
        "elif (b >= a) and (b >= c): # Si b es mayor que a Y si b es mayor que C.\n",
        "   num_mayor = b # El numero mayor sera b.\n",
        "else: # Si ninguna de las condiciones anteriores es verdadera.\n",
        "   num_mayor = c # El numero mayor sera C\n",
        "\n",
        "print(\"El numero mas largo es\", num_mayor)"
      ],
      "execution_count": null,
      "outputs": [
        {
          "output_type": "stream",
          "name": "stdout",
          "text": [
            "Introduce un numero 8\n",
            "Introduce otro numero 6\n",
            "Introduce un numero mas y veamos cual es el mas grande los tres 8.1\n",
            "El numero mas largo es 8.1\n"
          ]
        }
      ]
    },
    {
      "cell_type": "markdown",
      "metadata": {
        "id": "UrEABj865LoF"
      },
      "source": [
        "3. Intercambiar variables."
      ]
    },
    {
      "cell_type": "code",
      "metadata": {
        "colab": {
          "base_uri": "https://localhost:8080/"
        },
        "id": "KaXC-KUlWzFx",
        "outputId": "eceb82e1-95fc-4167-b964-74e82eb67c9b"
      },
      "source": [
        "#Este programa intercambia el orden de dos valores\n",
        "a = input(\"introduce un valor \")\n",
        "b = input(\"introduce un valor \")\n",
        "Intercambio = b,a  # Variable que contiene ambos valores pero intercambia su orden\n",
        "\n",
        "print(\"Intercambie el orden en el que ingresaste los valores\" ,Intercambio)\n"
      ],
      "execution_count": null,
      "outputs": [
        {
          "output_type": "stream",
          "name": "stdout",
          "text": [
            "introduce un valor 888\n",
            "introduce un valor 20\n",
            "Intercambie el orden en el que ingresaste los valores ('20', '888')\n"
          ]
        }
      ]
    },
    {
      "cell_type": "markdown",
      "metadata": {
        "id": "GvPr3x3I5PR6"
      },
      "source": [
        "4. Potencia de dos."
      ]
    },
    {
      "cell_type": "code",
      "metadata": {
        "colab": {
          "base_uri": "https://localhost:8080/"
        },
        "id": "lZHzpIEK7zlD",
        "outputId": "14b39a93-2909-4be7-cf19-c4d53dfca856"
      },
      "source": [
        "#Este programa checa si un numero es potencia de dos.\n",
        "def potencia_de_dos(n): # Aqui definimos la funcion potencia_de_dos\n",
        "    if (n == 0): # Si n es igual a 0\n",
        "        return False  \n",
        "    while (n != 1): # Mientras que N sea diferente a 1\n",
        "            if (n % 2 != 0): # Si el residuo de dividir n es diferente a 0\n",
        "                return False\n",
        "            n = n // 2 # N se divide entre 2\n",
        "             \n",
        "    return True\n",
        "#La funcion int(input) convierte lo ingresado a numero con punto flotante ya que input por default es tomado como string.\n",
        "if(potencia_de_dos(int(input(\"ingresa un numero entero y checa si es potencia de dos.\")))):\n",
        "    print(\"El numero es una potencia de dos.\")\n",
        "else:\n",
        "    print(\"El numero no es una potencia de dos.\")"
      ],
      "execution_count": null,
      "outputs": [
        {
          "output_type": "stream",
          "name": "stdout",
          "text": [
            "ingresa un numero entero y checa si es potencia de dos.9\n",
            "El numero no es una potencia de dos.\n"
          ]
        }
      ]
    },
    {
      "cell_type": "markdown",
      "metadata": {
        "id": "ut5MST4N5R49"
      },
      "source": [
        "5. Tablero Ajedrez."
      ]
    },
    {
      "cell_type": "code",
      "metadata": {
        "colab": {
          "base_uri": "https://localhost:8080/"
        },
        "id": "5ggaVCXN4pmp",
        "outputId": "9bc791da-fc5c-42a6-b2d9-b411c3e111d8"
      },
      "source": [
        "tab = [[' TN ',' CN ',' AN ',' QN ',' KN ',' AN ',' CN ',' TN '],[' PN ',' PN ',' PN ',' PN ',' PN ',' PN ',' PN ',' PN '],\n",
        "      ['[ ]]','[ ]]','[ ]]','[ ]]','[ ]]','[ ]]','[ ]]','[ ]]',],['[ ]]','[ ]]','[ ]]','[ ]]','[ ]]','[ ]]','[ ]]','[ ]]',],\n",
        "      ['[ ]]','[ ]]','[ ]]','[ ]]','[ ]]','[ ]]','[ ]]','[ ]]',],['[ ]]','[ ]]','[ ]]','[ ]]','[ ]]','[ ]]','[ ]]','[ ]]',],\n",
        "      [' PB ',' PB ',' PB ',' PB ',' PB ',' PB ',' PB ',' PB '],[' TB ',' CB ',' AB ',' QB ',' KB ',' AB ',' CB ',' TB ']]\n",
        "for i in range(0,len(tab)):\n",
        "    print(tab[i])"
      ],
      "execution_count": 2,
      "outputs": [
        {
          "output_type": "stream",
          "name": "stdout",
          "text": [
            "[' TN ', ' CN ', ' AN ', ' QN ', ' KN ', ' AN ', ' CN ', ' TN ']\n",
            "[' PN ', ' PN ', ' PN ', ' PN ', ' PN ', ' PN ', ' PN ', ' PN ']\n",
            "['[ ]]', '[ ]]', '[ ]]', '[ ]]', '[ ]]', '[ ]]', '[ ]]', '[ ]]']\n",
            "['[ ]]', '[ ]]', '[ ]]', '[ ]]', '[ ]]', '[ ]]', '[ ]]', '[ ]]']\n",
            "['[ ]]', '[ ]]', '[ ]]', '[ ]]', '[ ]]', '[ ]]', '[ ]]', '[ ]]']\n",
            "['[ ]]', '[ ]]', '[ ]]', '[ ]]', '[ ]]', '[ ]]', '[ ]]', '[ ]]']\n",
            "[' PB ', ' PB ', ' PB ', ' PB ', ' PB ', ' PB ', ' PB ', ' PB ']\n",
            "[' TB ', ' CB ', ' AB ', ' QB ', ' KB ', ' AB ', ' CB ', ' TB ']\n"
          ]
        }
      ]
    },
    {
      "cell_type": "code",
      "metadata": {
        "id": "juHD9oJL4o13"
      },
      "source": [
        ""
      ],
      "execution_count": null,
      "outputs": []
    }
  ]
}